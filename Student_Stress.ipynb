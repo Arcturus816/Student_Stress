{
 "cells": [
  {
   "cell_type": "markdown",
   "id": "4827b2d1",
   "metadata": {},
   "source": [
    "# Notebook for \"Student Stress Analysis\"\n",
    "Amanda Curtis \n",
    "\n",
    "Started August 25th, 2025"
   ]
  },
  {
   "cell_type": "code",
   "execution_count": 3,
   "id": "6d42a90d",
   "metadata": {},
   "outputs": [],
   "source": [
    "# Importing packages\n",
    "\n",
    "import pandas as pd\n",
    "import numpy as np\n",
    "import matplotlib.pyplot as plt\n",
    "import plotly.express as px\n",
    "import seaborn as sns\n",
    "sns.set_style(\"whitegrid\")"
   ]
  },
  {
   "cell_type": "markdown",
   "id": "f9750290",
   "metadata": {},
   "source": [
    "## Table of Contents \n",
    "1. First Check and Cleaning \n",
    "2. Train / Test / Split\n",
    "3. EDA #1\n",
    "4. EDA #2\n",
    "5. Feature Selection "
   ]
  },
  {
   "cell_type": "markdown",
   "id": "d8c3db26",
   "metadata": {},
   "source": [
    "## First Check and Cleaning"
   ]
  },
  {
   "cell_type": "code",
   "execution_count": null,
   "id": "40e47160",
   "metadata": {},
   "outputs": [],
   "source": [
    "stress_1 = pd.read_csv(\"../data/Stress_Dataset.csv\")\n",
    "stress_1.info()"
   ]
  },
  {
   "cell_type": "markdown",
   "id": "f13ed3f1",
   "metadata": {},
   "source": [
    "## Train / Test / Split"
   ]
  },
  {
   "cell_type": "code",
   "execution_count": null,
   "id": "2909d9af",
   "metadata": {},
   "outputs": [],
   "source": []
  }
 ],
 "metadata": {
  "kernelspec": {
   "display_name": "erdos_spring_2025",
   "language": "python",
   "name": "python3"
  },
  "language_info": {
   "codemirror_mode": {
    "name": "ipython",
    "version": 3
   },
   "file_extension": ".py",
   "mimetype": "text/x-python",
   "name": "python",
   "nbconvert_exporter": "python",
   "pygments_lexer": "ipython3",
   "version": "3.12.8"
  }
 },
 "nbformat": 4,
 "nbformat_minor": 5
}
